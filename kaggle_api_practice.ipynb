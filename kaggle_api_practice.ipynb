{
 "cells": [
  {
   "cell_type": "code",
   "execution_count": 1,
   "metadata": {
    "scrolled": true
   },
   "outputs": [
    {
     "name": "stdout",
     "output_type": "stream",
     "text": [
      "Name: kaggle\r\n",
      "Version: 1.5.4\r\n",
      "Summary: Kaggle API\r\n",
      "Home-page: https://github.com/Kaggle/kaggle-api\r\n",
      "Author: Kaggle\r\n",
      "Author-email: support@kaggle.com\r\n",
      "License: Apache 2.0\r\n",
      "Location: /anaconda3/lib/python3.7/site-packages\r\n",
      "Requires: requests, urllib3, six, certifi, python-slugify, python-dateutil, tqdm\r\n",
      "Required-by: \r\n"
     ]
    }
   ],
   "source": [
    "!pip show kaggle"
   ]
  },
  {
   "cell_type": "code",
   "execution_count": 13,
   "metadata": {},
   "outputs": [
    {
     "name": "stdout",
     "output_type": "stream",
     "text": [
      "usage: kaggle config [-h] {view,set,unset} ...\r\n",
      "kaggle config: error: argument command: invalid choice: 'path' (choose from 'view', 'set', 'unset')\r\n"
     ]
    }
   ],
   "source": [
    "!kaggle config path"
   ]
  },
  {
   "cell_type": "code",
   "execution_count": 8,
   "metadata": {},
   "outputs": [
    {
     "name": "stdout",
     "output_type": "stream",
     "text": [
      "usage: kaggle competitions list [-h] [--group GROUP] [--category CATEGORY]\r\n",
      "                                [--sort-by SORT_BY] [-p PAGE] [-s SEARCH] [-v]\r\n",
      "\r\n",
      "optional arguments:\r\n",
      "  -h, --help            show this help message and exit\r\n",
      "  --group GROUP         Search for competitions in a specific group. Default is 'general'. Valid options are 'general', 'entered', and 'inClass'\r\n",
      "  --category CATEGORY   Search for competitions of a specific category. Default is 'all'. Valid options are 'all', 'featured', 'research', 'recruitment', 'gettingStarted', 'masters', and 'playground'\r\n",
      "  --sort-by SORT_BY     Sort list results. Default is 'latestDeadline'. Valid options are 'grouped', 'prize', 'earliestDeadline', 'latestDeadline', 'numberOfTeams', and 'recentlyCreated'\r\n",
      "  -p PAGE, --page PAGE  Page number for results paging. Page size is 20 by default\r\n",
      "  -s SEARCH, --search SEARCH\r\n",
      "                        Term(s) to search for\r\n",
      "  -v, --csv             Print results in CSV format (if not set print in table format)\r\n"
     ]
    }
   ],
   "source": [
    "!kaggle competitions list -h"
   ]
  },
  {
   "cell_type": "code",
   "execution_count": 9,
   "metadata": {},
   "outputs": [
    {
     "name": "stdout",
     "output_type": "stream",
     "text": [
      "ref              deadline             category    reward  teamCount  userHasEntered  \r\n",
      "---------------  -------------------  --------  --------  ---------  --------------  \r\n",
      "hhp              2013-04-04 07:00:00  Featured  $500,000       1353           False  \r\n",
      "datasciencebowl  2015-03-16 23:59:00  Featured  $175,000       1049           False  \r\n"
     ]
    }
   ],
   "source": [
    "!kaggle competitions list -s health"
   ]
  },
  {
   "cell_type": "code",
   "execution_count": 10,
   "metadata": {},
   "outputs": [
    {
     "name": "stdout",
     "output_type": "stream",
     "text": [
      "name                   size  creationDate         \r\n",
      "---------------------  ----  -------------------  \r\n",
      "train.csv              60KB  2013-06-28 13:40:25  \r\n",
      "test.csv               28KB  2013-06-28 13:40:24  \r\n",
      "gender_submission.csv   3KB  2017-02-01 01:49:18  \r\n"
     ]
    }
   ],
   "source": [
    "!kaggle competitions files -c titanic"
   ]
  },
  {
   "cell_type": "code",
   "execution_count": 11,
   "metadata": {},
   "outputs": [
    {
     "name": "stdout",
     "output_type": "stream",
     "text": [
      "403 - Forbidden\r\n"
     ]
    }
   ],
   "source": [
    "!kaggle competitions download -c titanic"
   ]
  },
  {
   "cell_type": "code",
   "execution_count": 12,
   "metadata": {},
   "outputs": [
    {
     "name": "stdout",
     "output_type": "stream",
     "text": [
      "kaggle.json\r\n"
     ]
    }
   ],
   "source": [
    "%ls ~/.kaggle"
   ]
  },
  {
   "cell_type": "code",
   "execution_count": null,
   "metadata": {},
   "outputs": [],
   "source": []
  }
 ],
 "metadata": {
  "kernelspec": {
   "display_name": "Python 3",
   "language": "python",
   "name": "python3"
  },
  "language_info": {
   "codemirror_mode": {
    "name": "ipython",
    "version": 3
   },
   "file_extension": ".py",
   "mimetype": "text/x-python",
   "name": "python",
   "nbconvert_exporter": "python",
   "pygments_lexer": "ipython3",
   "version": "3.7.1"
  }
 },
 "nbformat": 4,
 "nbformat_minor": 2
}
